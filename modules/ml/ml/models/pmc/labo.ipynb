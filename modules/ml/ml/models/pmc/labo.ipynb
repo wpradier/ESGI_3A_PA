{
 "cells": [
  {
   "cell_type": "code",
   "execution_count": 1,
   "metadata": {},
   "outputs": [],
   "source": [
    "import ctypes\n",
    "import numpy as np\n",
    "from lib import *\n",
    "\n",
    "import pandas as pd\n",
    "from numpy import genfromtxt\n",
    "from sklearn.model_selection import train_test_split\n",
    "from sklearn.preprocessing import OneHotEncoder\n",
    "from sklearn.metrics import classification_report\n",
    "import json"
   ]
  },
  {
   "cell_type": "code",
   "execution_count": 2,
   "metadata": {},
   "outputs": [
    {
     "name": "stdout",
     "output_type": "stream",
     "text": [
      "Classe : 2\n"
     ]
    }
   ],
   "source": [
    "def vector_to_class_label(vector):\n",
    "    max_index = max(range(len(vector)), key=vector.__getitem__)\n",
    "    return max_index \n",
    "\n",
    "vector = [0.03871405, 0.13871405, 1.03871405]\n",
    "class_label = vector_to_class_label(vector)\n",
    "print(\"Classe :\", class_label)"
   ]
  },
  {
   "cell_type": "code",
   "execution_count": 3,
   "metadata": {},
   "outputs": [],
   "source": [
    "test_acappella = genfromtxt('data/acappella_test.csv', delimiter=',')\n",
    "train_acappella = genfromtxt('data/acappella_train.csv', delimiter=',')\n",
    "train_accoust = genfromtxt('data/accoust_train.csv', delimiter=',')\n",
    "test_accoust = genfromtxt('data/accoust_test.csv', delimiter=',')\n",
    "train_electro = genfromtxt('data/electro_train.csv', delimiter=',')\n",
    "test_electro = genfromtxt('data/electro_test.csv', delimiter=',')"
   ]
  },
  {
   "cell_type": "code",
   "execution_count": 4,
   "metadata": {},
   "outputs": [],
   "source": [
    "vec_aca = np.zeros(train_acappella.shape[0])\n",
    "vec_aca=  vec_aca.reshape(train_acappella.shape[0], 1)\n",
    "train_acappella = np.hstack((train_acappella,vec_aca ))\n",
    "\n",
    "vec_acc = np.ones(train_accoust.shape[0])\n",
    "vec_acc =  vec_acc.reshape(train_accoust.shape[0], 1)\n",
    "train_accoust = np.hstack((train_accoust,vec_acc ))\n",
    "\n",
    "vec_ele = np.ones(train_electro.shape[0])*2\n",
    "vec_ele =  vec_ele.reshape(train_electro.shape[0], 1)\n",
    "train_electro = np.hstack((train_electro,vec_ele ))"
   ]
  },
  {
   "cell_type": "code",
   "execution_count": 5,
   "metadata": {},
   "outputs": [
    {
     "name": "stdout",
     "output_type": "stream",
     "text": [
      "(2418, 1026)\n",
      "(2418, 1026)\n",
      "(2418, 1026)\n"
     ]
    }
   ],
   "source": [
    "print(train_acappella.shape)\n",
    "print(train_accoust.shape)\n",
    "print(train_electro.shape)"
   ]
  },
  {
   "cell_type": "code",
   "execution_count": 6,
   "metadata": {},
   "outputs": [],
   "source": [
    "# contatenate train_acappella, train_accoust, train_electro as np array\n",
    "train = np.concatenate((train_acappella, train_accoust, train_electro), axis=0)\n",
    "data = train[:,0:train.shape[1]-1]\n",
    "label = train[:,-1]\n",
    "data = data/255\n"
   ]
  },
  {
   "cell_type": "code",
   "execution_count": 7,
   "metadata": {},
   "outputs": [],
   "source": [
    "X_train, X_test, y_train, y_test = train_test_split(data, label, test_size=0.2, random_state=42 ,stratify=label)"
   ]
  },
  {
   "cell_type": "code",
   "execution_count": 8,
   "metadata": {},
   "outputs": [],
   "source": [
    "y_train = y_train.reshape(y_train.shape[0], 1)\n",
    "enc = OneHotEncoder(handle_unknown='ignore')\n",
    "enc.fit(y_train)\n",
    "y_train = enc.transform(y_train).toarray()\n",
    "y_train = np.where(y_train == 0, -1, y_train)"
   ]
  },
  {
   "cell_type": "code",
   "execution_count": 9,
   "metadata": {},
   "outputs": [
    {
     "data": {
      "text/plain": [
       "array([[-1.,  1., -1.],\n",
       "       [-1.,  1., -1.],\n",
       "       [-1.,  1., -1.],\n",
       "       ...,\n",
       "       [ 1., -1., -1.],\n",
       "       [ 1., -1., -1.],\n",
       "       [-1., -1.,  1.]])"
      ]
     },
     "execution_count": 9,
     "metadata": {},
     "output_type": "execute_result"
    }
   ],
   "source": [
    "y_train"
   ]
  },
  {
   "cell_type": "code",
   "execution_count": 10,
   "metadata": {},
   "outputs": [
    {
     "name": "stdout",
     "output_type": "stream",
     "text": [
      "[0.00392157 0.         0.         ... 0.95294118 0.94117647 0.9372549 ]\n"
     ]
    }
   ],
   "source": [
    "all_training_inputs = np.float64(X_train.flatten())\n",
    "all_training_expected_outputs = np.float64(y_train.flatten())\n",
    "\n",
    "npl = np.array([X_train.shape[1],100,50, y_train.shape[1]])\n",
    "npl_size = len(npl)\n",
    "\n",
    "sample_inputs = np.array(list(X_train[0]))\n",
    "print(sample_inputs)\n",
    "sample_inputs_size = len(sample_inputs)"
   ]
  },
  {
   "cell_type": "code",
   "execution_count": 11,
   "metadata": {},
   "outputs": [
    {
     "name": "stdout",
     "output_type": "stream",
     "text": [
      "npl:  [1025  100   50    3]\n",
      "npl_size:  4\n",
      "X_train.shape:  (5803, 1025)\n",
      "y_train.shape:  (5803, 3)\n"
     ]
    }
   ],
   "source": [
    "print(\"npl: \", npl)\n",
    "print(\"npl_size: \", npl_size)\n",
    "print(\"X_train.shape: \", X_train.shape)\n",
    "print(\"y_train.shape: \", y_train.shape)\n"
   ]
  },
  {
   "cell_type": "code",
   "execution_count": 12,
   "metadata": {},
   "outputs": [
    {
     "name": "stdout",
     "output_type": "stream",
     "text": [
      "create_mlp_model\n",
      "create_mlp_model done\n",
      "[0.99199398 0.99199398 0.99199398]\n",
      "train_mlp_model\n",
      "train_mlp_model done\n",
      "[0.95559793 0.97917607 0.97898924]\n",
      "label_predict:  1\n"
     ]
    }
   ],
   "source": [
    "model_pointer = create_mlp_model(npl, npl_size)\n",
    "\n",
    "predict = predict_mlp_model(model_pointer, sample_inputs , sample_inputs_size, True , npl)\n",
    "print(predict)\n",
    "delete_float_array(predict, npl)\n",
    "train_mlp_model(model_pointer, all_training_inputs, len(X_train), len(X_train[0]), all_training_expected_outputs, len(y_train[0]), 0.001, 100, True)\n",
    "predict = predict_mlp_model(model_pointer, sample_inputs , sample_inputs_size, True , npl)\n",
    "label_predict = vector_to_class_label(predict)\n",
    "\n",
    "print(predict)\n",
    "print(\"label_predict: \", label_predict)\n",
    "#delete_mlp_model(model_pointer)\n",
    "delete_float_array(predict, npl)\n",
    "\n",
    "y_pred = []\n",
    "for i in range(len(X_test)):\n",
    "    predict = predict_mlp_model(model_pointer, X_test[i] , sample_inputs_size, True , npl)\n",
    "    #label_predict = vector_to_class_label(predict)\n",
    "    y_pred.append(predict)\n",
    "    delete_float_array(predict, npl)\n",
    "#target_names = ['acappella', 'accoust', 'electro']\n",
    "#print(classification_report(y_test, y_pred, target_names=target_names))\n",
    "\n",
    "#delete_mlp_model(model_pointer)"
   ]
  },
  {
   "cell_type": "code",
   "execution_count": 13,
   "metadata": {},
   "outputs": [
    {
     "name": "stdout",
     "output_type": "stream",
     "text": [
      "              precision    recall  f1-score   support\n",
      "\n",
      "         0.0       0.31      0.46      0.37       483\n",
      "         1.0       0.33      0.23      0.27       484\n",
      "         2.0       0.31      0.26      0.28       484\n",
      "\n",
      "    accuracy                           0.32      1451\n",
      "   macro avg       0.32      0.32      0.31      1451\n",
      "weighted avg       0.32      0.32      0.31      1451\n",
      "\n"
     ]
    }
   ],
   "source": [
    "y_pred_label = np.argmax(y_pred, axis=1)\n",
    "label_list = [0,1,2]\n",
    "predicted_classes  = [label_list[label_index] for label_index in y_pred_label]\n",
    "print(classification_report(y_test, predicted_classes))"
   ]
  },
  {
   "cell_type": "code",
   "execution_count": 33,
   "metadata": {},
   "outputs": [
    {
     "name": "stdout",
     "output_type": "stream",
     "text": [
      "MLP model saved to file: test.mlp\n"
     ]
    }
   ],
   "source": [
    "save_mlp_model(model_pointer, \"test.mlp\")\n",
    "delete_mlp_model(model_pointer)"
   ]
  },
  {
   "cell_type": "code",
   "execution_count": 2,
   "metadata": {},
   "outputs": [
    {
     "ename": "",
     "evalue": "",
     "output_type": "error",
     "traceback": [
      "\u001b[1;31mCannot execute code, session has been disposed. Please try restarting the Kernel."
     ]
    },
    {
     "ename": "",
     "evalue": "",
     "output_type": "error",
     "traceback": [
      "\u001b[1;31mThe Kernel crashed while executing code in the the current cell or a previous cell. Please review the code in the cell(s) to identify a possible cause of the failure. Click <a href='https://aka.ms/vscodeJupyterKernelCrash'>here</a> for more info. View Jupyter <a href='command:jupyter.viewOutput'>log</a> for further details."
     ]
    }
   ],
   "source": [
    "model_pointer = load_mlp_model(\"test.mlp\")"
   ]
  },
  {
   "cell_type": "code",
   "execution_count": null,
   "metadata": {},
   "outputs": [],
   "source": []
  },
  {
   "cell_type": "code",
   "execution_count": null,
   "metadata": {},
   "outputs": [],
   "source": []
  }
 ],
 "metadata": {
  "kernelspec": {
   "display_name": "spectrogram",
   "language": "python",
   "name": "python3"
  },
  "language_info": {
   "codemirror_mode": {
    "name": "ipython",
    "version": 3
   },
   "file_extension": ".py",
   "mimetype": "text/x-python",
   "name": "python",
   "nbconvert_exporter": "python",
   "pygments_lexer": "ipython3",
   "version": "3.11.4"
  },
  "orig_nbformat": 4
 },
 "nbformat": 4,
 "nbformat_minor": 2
}
