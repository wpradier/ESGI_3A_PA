{
 "cells": [
  {
   "cell_type": "code",
   "execution_count": 1,
   "metadata": {},
   "outputs": [],
   "source": [
    "import ctypes\n",
    "import numpy as np\n",
    "from lib import *"
   ]
  },
  {
   "cell_type": "code",
   "execution_count": 9,
   "metadata": {},
   "outputs": [
    {
     "name": "stdout",
     "output_type": "stream",
     "text": [
      "[[0.00392157 0.         0.         ... 0.95294118 0.94117647 0.9372549 ]\n",
      " [0.00392157 0.         0.         ... 0.59607843 0.51372549 0.64313725]\n",
      " [0.00392157 0.         0.         ... 0.56470588 0.57254902 0.65098039]\n",
      " ...\n",
      " [0.00392157 0.         0.         ... 0.76470588 0.70196078 0.84313725]\n",
      " [0.         0.         0.         ... 0.85490196 0.91764706 0.91764706]\n",
      " [0.00392157 0.         0.         ... 0.6627451  0.6627451  0.60784314]]\n",
      "[0.00392157 0.         0.         ... 0.95294118 0.94117647 0.9372549 ]\n"
     ]
    }
   ],
   "source": [
    "\"\"\" X = np.array([\n",
    "        [1.0, 1.0],\n",
    "        [2.0, 3.0],\n",
    "        [3.0, 3.0]\n",
    "    ])\n",
    "X_size = len(X)\n",
    "\n",
    "Y = np.array([\n",
    "        [1.0],\n",
    "        [-1.0],\n",
    "        [-1.0]\n",
    "    ])\n",
    " \"\"\"\n",
    "#####test for output 3 dimension\n",
    "\n",
    "X = np.random.random((500, 2)) * 2.0 - 1.0\n",
    "Y = np.array([[1, 0, 0] if -p[0] - p[1] - 0.5 > 0 and p[1] < 0 and p[0] - p[1] - 0.5 < 0 else \n",
    "              [0, 1, 0] if -p[0] - p[1] - 0.5 < 0 and p[1] > 0 and p[0] - p[1] - 0.5 < 0 else \n",
    "              [0, 0, 1] if -p[0] - p[1] - 0.5 < 0 and p[1] < 0 and p[0] - p[1] - 0.5 > 0 else \n",
    "              [0, 0, 0]for p in X])\n",
    "\n",
    "X = X[[not np.all(arr == [0, 0, 0]) for arr in Y]]\n",
    "Y = Y[[not np.all(arr == [0, 0, 0]) for arr in Y]]\n",
    "\n",
    "from numpy import genfromtxt\n",
    "from sklearn.model_selection import train_test_split\n",
    "from sklearn.preprocessing import OneHotEncoder\n",
    "\n",
    "test_acappella = genfromtxt('data/acappella_test.csv', delimiter=',')\n",
    "train_acappella = genfromtxt('data/acappella_train.csv', delimiter=',')\n",
    "train_accoust = genfromtxt('data/accoust_train.csv', delimiter=',')\n",
    "test_accoust = genfromtxt('data/accoust_test.csv', delimiter=',')\n",
    "train_electro = genfromtxt('data/electro_train.csv', delimiter=',')\n",
    "test_electro = genfromtxt('data/electro_test.csv', delimiter=',')\n",
    "\n",
    "vec_aca = np.zeros(train_acappella.shape[0])\n",
    "vec_aca=  vec_aca.reshape(train_acappella.shape[0], 1)\n",
    "train_acappella = np.hstack((train_acappella,vec_aca ))\n",
    "\n",
    "vec_acc = np.ones(train_accoust.shape[0])\n",
    "vec_acc =  vec_acc.reshape(train_accoust.shape[0], 1)\n",
    "train_accoust = np.hstack((train_accoust,vec_acc ))\n",
    "\n",
    "vec_ele = np.ones(train_electro.shape[0])*2\n",
    "vec_ele =  vec_ele.reshape(train_electro.shape[0], 1)\n",
    "train_electro = np.hstack((train_electro,vec_ele ))\n",
    "\n",
    "\n",
    "# contatenate train_acappella, train_accoust, train_electro as np array\n",
    "train = np.concatenate((train_acappella, train_accoust, train_electro), axis=0)\n",
    "data = train[:,0:train.shape[1]-1]\n",
    "label = train[:,-1]\n",
    "data = data/255\n",
    "\n",
    "X, X_test, y_train, y_test = train_test_split(data, label, test_size=0.2, random_state=42,stratify=label)\n",
    "\n",
    "y_train = y_train.reshape(y_train.shape[0], 1)\n",
    "enc = OneHotEncoder(handle_unknown='ignore')\n",
    "enc.fit(y_train)\n",
    "Y = enc.transform(y_train).toarray()\n",
    "\n",
    "\n",
    "\n",
    "print(X)\n",
    "all_training_inputs = np.float64(X.flatten())\n",
    "all_training_expected_outputs = np.float64(Y.flatten())\n",
    "\n",
    "npl = np.array([3, 3])\n",
    "npl_size = len(npl)\n",
    "\n",
    "\n",
    "sample_inputs = np.array(X[0])\n",
    "print(sample_inputs)\n",
    "sample_inputs_size = len(sample_inputs)"
   ]
  },
  {
   "cell_type": "code",
   "execution_count": 10,
   "metadata": {},
   "outputs": [
    {
     "data": {
      "text/plain": [
       "array([0., 1., 0., ..., 0., 0., 1.])"
      ]
     },
     "execution_count": 10,
     "metadata": {},
     "output_type": "execute_result"
    }
   ],
   "source": [
    "all_training_expected_outputs"
   ]
  },
  {
   "cell_type": "code",
   "execution_count": 11,
   "metadata": {},
   "outputs": [
    {
     "data": {
      "text/plain": [
       "array([0.00392157, 0.        , 0.        , ..., 0.95294118, 0.94117647,\n",
       "       0.9372549 ])"
      ]
     },
     "execution_count": 11,
     "metadata": {},
     "output_type": "execute_result"
    }
   ],
   "source": [
    "sample_inputs"
   ]
  },
  {
   "cell_type": "code",
   "execution_count": null,
   "metadata": {},
   "outputs": [
    {
     "name": "stdout",
     "output_type": "stream",
     "text": [
      "[0.31596232 0.31596232 0.31596232]\n",
      "[0.3941733  0.3641502  0.27643639]\n"
     ]
    },
    {
     "ename": "",
     "evalue": "",
     "output_type": "error",
     "traceback": [
      "\u001b[1;31mCannot execute code, session has been disposed. Please try restarting the Kernel."
     ]
    },
    {
     "ename": "",
     "evalue": "",
     "output_type": "error",
     "traceback": [
      "\u001b[1;31mThe Kernel crashed while executing code in the the current cell or a previous cell. Please review the code in the cell(s) to identify a possible cause of the failure. Click <a href='https://aka.ms/vscodeJupyterKernelCrash'>here</a> for more info. View Jupyter <a href='command:jupyter.viewOutput'>log</a> for further details."
     ]
    }
   ],
   "source": [
    "model_pointer = create_mlp_model(npl, npl_size)\n",
    "\n",
    "predict = predict_mlp_model(model_pointer, sample_inputs , sample_inputs_size, True , npl)\n",
    "print(predict)\n",
    "train_mlp_model(model_pointer, all_training_inputs, len(X), len(X[0]), all_training_expected_outputs, len(Y[0]), 0.1, 100000, True)\n",
    "predict = predict_mlp_model(model_pointer, sample_inputs , sample_inputs_size, True , npl)\n",
    "print(predict)\n",
    "#delete_mlp_model(model_pointer)\n",
    "delete_float_array(predict, npl)"
   ]
  },
  {
   "cell_type": "code",
   "execution_count": 4,
   "metadata": {},
   "outputs": [],
   "source": [
    "delete_mlp_model(model_pointer)\n"
   ]
  },
  {
   "cell_type": "code",
   "execution_count": 4,
   "metadata": {},
   "outputs": [
    {
     "name": "stdout",
     "output_type": "stream",
     "text": [
      "MLP model saved to file: test.mlp\n"
     ]
    }
   ],
   "source": [
    "save_mlp_model(model_pointer, \"test.mlp\")"
   ]
  },
  {
   "cell_type": "code",
   "execution_count": null,
   "metadata": {},
   "outputs": [
    {
     "ename": "",
     "evalue": "",
     "output_type": "error",
     "traceback": [
      "\u001b[1;31mCannot execute code, session has been disposed. Please try restarting the Kernel."
     ]
    },
    {
     "ename": "",
     "evalue": "",
     "output_type": "error",
     "traceback": [
      "\u001b[1;31mThe Kernel crashed while executing code in the the current cell or a previous cell. Please review the code in the cell(s) to identify a possible cause of the failure. Click <a href='https://aka.ms/vscodeJupyterKernelCrash'>here</a> for more info. View Jupyter <a href='command:jupyter.viewOutput'>log</a> for further details."
     ]
    }
   ],
   "source": [
    "import_model = load_mlp_model(\"test.mlp\")"
   ]
  },
  {
   "cell_type": "code",
   "execution_count": null,
   "metadata": {},
   "outputs": [],
   "source": []
  }
 ],
 "metadata": {
  "kernelspec": {
   "display_name": "Python 3",
   "language": "python",
   "name": "python3"
  },
  "language_info": {
   "codemirror_mode": {
    "name": "ipython",
    "version": 3
   },
   "file_extension": ".py",
   "mimetype": "text/x-python",
   "name": "python",
   "nbconvert_exporter": "python",
   "pygments_lexer": "ipython3",
   "version": "3.11.4"
  },
  "orig_nbformat": 4
 },
 "nbformat": 4,
 "nbformat_minor": 2
}
