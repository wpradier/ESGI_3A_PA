{
 "cells": [
  {
   "cell_type": "code",
   "execution_count": 1,
   "metadata": {},
   "outputs": [],
   "source": [
    "import ctypes\n",
    "import numpy as np\n",
    "from lib import *"
   ]
  },
  {
   "cell_type": "code",
   "execution_count": 2,
   "metadata": {},
   "outputs": [
    {
     "name": "stdout",
     "output_type": "stream",
     "text": [
      "[1. 8.]\n"
     ]
    }
   ],
   "source": [
    "X = np.array([\n",
    "        [1.0, 8.0],\n",
    "        [4.0, 2.0],\n",
    "        [5.0, 6.0]\n",
    "    ])\n",
    "X_size = len(X)\n",
    "\n",
    "Y = np.array([\n",
    "        [-1.0],\n",
    "        [-1.0],\n",
    "        [1.0]\n",
    "    ])\n",
    "\n",
    "#####test for output 3 dimension\n",
    "\n",
    "#X = np.random.random((500, 2)) * 2.0 - 1.0\n",
    "#Y = np.array([[1, 0, 0] if -p[0] - p[1] - 0.5 > 0 and p[1] < 0 and p[0] - p[1] - 0.5 < 0 else \n",
    "#              [0, 1, 0] if -p[0] - p[1] - 0.5 < 0 and p[1] > 0 and p[0] - p[1] - 0.5 < 0 else \n",
    "#              [0, 0, 1] if -p[0] - p[1] - 0.5 < 0 and p[1] < 0 and p[0] - p[1] - 0.5 > 0 else \n",
    "#              [0, 0, 0]for p in X])\n",
    "\n",
    "#X = X[[not np.all(arr == [0, 0, 0]) for arr in Y]]\n",
    "#Y = Y[[not np.all(arr == [0, 0, 0]) for arr in Y]]\n",
    "\n",
    "all_training_inputs = np.float64(X.flatten())\n",
    "all_training_expected_outputs = np.float64(Y.flatten())\n",
    "\n",
    "npl = np.array([2, 1])\n",
    "npl_size = len(npl)\n",
    "\n",
    "\n",
    "sample_inputs = np.array([1.0, 8.0])\n",
    "print(sample_inputs)\n",
    "sample_inputs_size = len(sample_inputs)"
   ]
  },
  {
   "cell_type": "code",
   "execution_count": 3,
   "metadata": {},
   "outputs": [
    {
     "name": "stdout",
     "output_type": "stream",
     "text": [
      "[0.49069227]\n",
      "[-0.99999986]\n"
     ]
    }
   ],
   "source": [
    "model_pointer = create_mlp_model(npl, npl_size)\n",
    "\n",
    "predict = predict_mlp_model(model_pointer, sample_inputs , sample_inputs_size, True , npl)\n",
    "print(predict)\n",
    "train_mlp_model(model_pointer, all_training_inputs, len(X), len(X[0]), all_training_expected_outputs, len(Y[0]), 0.1, 100000, True)\n",
    "predict = predict_mlp_model(model_pointer, sample_inputs , sample_inputs_size, True , npl)\n",
    "print(predict)\n",
    "delete_mlp_model(model_pointer)\n",
    "delete_float_array(predict, npl)"
   ]
  },
  {
   "cell_type": "code",
   "execution_count": 15,
   "metadata": {},
   "outputs": [
    {
     "data": {
      "text/plain": [
       "1"
      ]
     },
     "execution_count": 15,
     "metadata": {},
     "output_type": "execute_result"
    }
   ],
   "source": [
    "len(Y[0])"
   ]
  },
  {
   "cell_type": "code",
   "execution_count": null,
   "metadata": {},
   "outputs": [],
   "source": []
  }
 ],
 "metadata": {
  "kernelspec": {
   "display_name": "Python 3",
   "language": "python",
   "name": "python3"
  },
  "language_info": {
   "codemirror_mode": {
    "name": "ipython",
    "version": 3
   },
   "file_extension": ".py",
   "mimetype": "text/x-python",
   "name": "python",
   "nbconvert_exporter": "python",
   "pygments_lexer": "ipython3",
   "version": "3.9.12"
  },
  "orig_nbformat": 4
 },
 "nbformat": 4,
 "nbformat_minor": 2
}
