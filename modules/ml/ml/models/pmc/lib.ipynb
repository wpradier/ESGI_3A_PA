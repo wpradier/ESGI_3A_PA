{
 "cells": [
  {
   "cell_type": "code",
   "execution_count": 1,
   "metadata": {},
   "outputs": [],
   "source": [
    "import ctypes\n",
    "import numpy as np\n",
    "from lib import *"
   ]
  },
  {
   "cell_type": "code",
   "execution_count": 2,
   "metadata": {},
   "outputs": [],
   "source": [
    "\"\"\" X = np.array([\n",
    "        [1.0, 1.0],\n",
    "        [2.0, 3.0],\n",
    "        [3.0, 3.0]\n",
    "    ])\n",
    "X_size = len(X)\n",
    "\n",
    "Y = np.array([\n",
    "        [1.0],\n",
    "        [-1.0],\n",
    "        [-1.0]\n",
    "    ])\n",
    " \"\"\"\n",
    "#####test for output 3 dimension\n",
    "\n",
    "X = np.random.random((500, 2)) * 2.0 - 1.0\n",
    "Y = np.array([[1, 0, 0] if -p[0] - p[1] - 0.5 > 0 and p[1] < 0 and p[0] - p[1] - 0.5 < 0 else \n",
    "              [0, 1, 0] if -p[0] - p[1] - 0.5 < 0 and p[1] > 0 and p[0] - p[1] - 0.5 < 0 else \n",
    "              [0, 0, 1] if -p[0] - p[1] - 0.5 < 0 and p[1] < 0 and p[0] - p[1] - 0.5 > 0 else \n",
    "              [0, 0, 0]for p in X])\n",
    "\n",
    "X = X[[not np.all(arr == [0, 0, 0]) for arr in Y]]\n",
    "Y = Y[[not np.all(arr == [0, 0, 0]) for arr in Y]]\n",
    "\n",
    "\n",
    "all_training_inputs = np.float64(X.flatten())\n",
    "all_training_expected_outputs = np.float64(Y.flatten())\n",
    "\n",
    "npl = np.array([2, 3])\n",
    "npl_size = len(npl)\n",
    "\n",
    "\n",
    "sample_inputs = np.array(X[0])\n",
    "sample_inputs_size = len(sample_inputs)"
   ]
  },
  {
   "cell_type": "code",
   "execution_count": 6,
   "metadata": {},
   "outputs": [
    {
     "data": {
      "text/plain": [
       "array([1, 0, 0])"
      ]
     },
     "execution_count": 6,
     "metadata": {},
     "output_type": "execute_result"
    }
   ],
   "source": [
    "Y[45]"
   ]
  },
  {
   "cell_type": "code",
   "execution_count": 3,
   "metadata": {},
   "outputs": [
    {
     "data": {
      "text/plain": [
       "array([1., 0., 0., ..., 0., 1., 0.])"
      ]
     },
     "execution_count": 3,
     "metadata": {},
     "output_type": "execute_result"
    }
   ],
   "source": [
    "all_training_expected_outputs"
   ]
  },
  {
   "cell_type": "code",
   "execution_count": 4,
   "metadata": {},
   "outputs": [
    {
     "data": {
      "text/plain": [
       "array([-0.82316076, -0.3940344 ])"
      ]
     },
     "execution_count": 4,
     "metadata": {},
     "output_type": "execute_result"
    }
   ],
   "source": [
    "sample_inputs"
   ]
  },
  {
   "cell_type": "code",
   "execution_count": 5,
   "metadata": {},
   "outputs": [
    {
     "name": "stdout",
     "output_type": "stream",
     "text": [
      "create_mlp_model\n",
      "w: [[], [[0.0, 1.3372296076667154, -0.588569883948526, 1.4066435232092467], [0.0, -0.43812343028357836, 1.0839490316390654, -2.3593209790377796], [0.0, -0.0017339373863660698, -0.5062941820860668, 0.8633453192838477]]]\n",
      "create_mlp_model done\n",
      "[ 0.76853551 -0.03742767  0.09377515]\n",
      "preditiction [0.7685355070071443, -0.037427667349676334, 0.09377514798777214]\n"
     ]
    }
   ],
   "source": [
    "model_pointer = create_mlp_model(npl, npl_size)\n",
    "\n",
    "predict = predict_mlp_model(model_pointer, sample_inputs , sample_inputs_size, True , npl)\n",
    "print(predict)"
   ]
  },
  {
   "cell_type": "code",
   "execution_count": 5,
   "metadata": {},
   "outputs": [
    {
     "name": "stdout",
     "output_type": "stream",
     "text": [
      "preditiction [0.7046085337036024, 0.0663292139738045, 0.07374470790995362]\n",
      "[0.70460853 0.06632921 0.07374471]\n"
     ]
    }
   ],
   "source": [
    "\n",
    "#train_mlp_model(model_pointer, all_training_inputs, len(X), len(X[0]), all_training_expected_outputs, len(Y[0]), 0.1, 1000, True)\n",
    "predict = predict_mlp_model(model_pointer, X[45] , sample_inputs_size, True , npl)\n",
    "print(predict)\n",
    "#delete_mlp_model(model_pointer)\n",
    "delete_float_array(predict, npl)"
   ]
  },
  {
   "cell_type": "code",
   "execution_count": 6,
   "metadata": {},
   "outputs": [],
   "source": [
    "delete_mlp_model(model_pointer)\n"
   ]
  },
  {
   "cell_type": "code",
   "execution_count": 4,
   "metadata": {},
   "outputs": [],
   "source": [
    "model_pointer = load_mlp_model(\"test.mlp\")"
   ]
  },
  {
   "cell_type": "code",
   "execution_count": null,
   "metadata": {},
   "outputs": [],
   "source": [
    "# read first image from the dataset and show it\n",
    "\n"
   ]
  }
 ],
 "metadata": {
  "kernelspec": {
   "display_name": "Python 3",
   "language": "python",
   "name": "python3"
  },
  "language_info": {
   "codemirror_mode": {
    "name": "ipython",
    "version": 3
   },
   "file_extension": ".py",
   "mimetype": "text/x-python",
   "name": "python",
   "nbconvert_exporter": "python",
   "pygments_lexer": "ipython3",
   "version": "3.11.4"
  },
  "orig_nbformat": 4
 },
 "nbformat": 4,
 "nbformat_minor": 2
}
