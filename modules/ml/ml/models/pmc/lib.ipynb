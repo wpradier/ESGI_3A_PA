{
 "cells": [
  {
   "cell_type": "code",
   "execution_count": 1,
   "metadata": {},
   "outputs": [],
   "source": [
    "import ctypes\n",
    "import numpy as np\n",
    "from lib import *"
   ]
  },
  {
   "cell_type": "code",
   "execution_count": 2,
   "metadata": {},
   "outputs": [],
   "source": [
    "\"\"\" X = np.array([\n",
    "        [1.0, 1.0],\n",
    "        [2.0, 3.0],\n",
    "        [3.0, 3.0]\n",
    "    ])\n",
    "X_size = len(X)\n",
    "\n",
    "Y = np.array([\n",
    "        [1.0],\n",
    "        [-1.0],\n",
    "        [-1.0]\n",
    "    ])\n",
    " \"\"\"\n",
    "#####test for output 3 dimension\n",
    "\n",
    "X = np.random.random((500, 2)) * 2.0 - 1.0\n",
    "Y = np.array([[1, 0, 0] if -p[0] - p[1] - 0.5 > 0 and p[1] < 0 and p[0] - p[1] - 0.5 < 0 else \n",
    "              [0, 1, 0] if -p[0] - p[1] - 0.5 < 0 and p[1] > 0 and p[0] - p[1] - 0.5 < 0 else \n",
    "              [0, 0, 1] if -p[0] - p[1] - 0.5 < 0 and p[1] < 0 and p[0] - p[1] - 0.5 > 0 else \n",
    "              [0, 0, 0]for p in X])\n",
    "\n",
    "X = X[[not np.all(arr == [0, 0, 0]) for arr in Y]]\n",
    "Y = Y[[not np.all(arr == [0, 0, 0]) for arr in Y]]\n",
    "\n",
    "\n",
    "all_training_inputs = np.float64(X.flatten())\n",
    "all_training_expected_outputs = np.float64(Y.flatten())\n",
    "\n",
    "npl = np.array([2, 3])\n",
    "npl_size = len(npl)\n",
    "\n",
    "\n",
    "sample_inputs = np.array(X[0])\n",
    "sample_inputs_size = len(sample_inputs)"
   ]
  },
  {
   "cell_type": "code",
   "execution_count": 3,
   "metadata": {},
   "outputs": [
    {
     "name": "stdout",
     "output_type": "stream",
     "text": [
      "create_mlp_model\n",
      "w: [[], [[0.0, 2.227120130119883, 0.6199086752896343, -1.104193104538968], [0.0, -0.021362628984519266, 0.13778817458501313, 1.6703561182851336], [0.0, -0.2815853067260653, -0.3527217010534829, 0.7582355843803698]]]\n",
      "create_mlp_model done\n",
      "[ 0.9689887   0.38767993 -0.71648347]\n"
     ]
    }
   ],
   "source": [
    "model_pointer = create_mlp_model(npl, npl_size)\n",
    "\n",
    "predict = predict_mlp_model(model_pointer, sample_inputs , sample_inputs_size, True , npl)\n",
    "print(predict)"
   ]
  },
  {
   "cell_type": "code",
   "execution_count": 4,
   "metadata": {},
   "outputs": [
    {
     "name": "stdout",
     "output_type": "stream",
     "text": [
      "train_mlp_model\n",
      "[ 0.19532748  0.87165299 -0.13661799]\n",
      "train_mlp_model done\n",
      "delete_float_array done\n",
      "save_mlp_model done\n",
      "delete_mlp_model done\n"
     ]
    }
   ],
   "source": [
    "\n",
    "train_mlp_model(model_pointer, all_training_inputs, len(X), len(X[0]), all_training_expected_outputs, len(Y[0]), 0.1, 1000, True)\n",
    "predict = predict_mlp_model(model_pointer, sample_inputs , sample_inputs_size, True , npl)\n",
    "print(predict)\n",
    "delete_float_array(predict, npl)\n",
    "save_mlp_model(model_pointer, \"test.mlp\")\n",
    "delete_mlp_model(model_pointer)\n"
   ]
  },
  {
   "cell_type": "code",
   "execution_count": 5,
   "metadata": {},
   "outputs": [
    {
     "name": "stdout",
     "output_type": "stream",
     "text": [
      "load_mlp_model done\n",
      "train_mlp_model\n",
      "train_mlp_model done\n",
      "[ 0.32589362  0.7933914  -0.18988113]\n",
      "delete_float_array done\n",
      "delete_mlp_model done\n"
     ]
    }
   ],
   "source": [
    "model_pointer = load_mlp_model(\"test.mlp\")\n",
    "train_mlp_model(model_pointer, all_training_inputs, len(X), len(X[0]), all_training_expected_outputs, len(Y[0]), 0.1, 1000, True)\n",
    "predict = predict_mlp_model(model_pointer, sample_inputs , sample_inputs_size, True , npl)\n",
    "print(predict)\n",
    "delete_float_array(predict, npl)\n",
    "delete_mlp_model(model_pointer)\n"
   ]
  },
  {
   "cell_type": "code",
   "execution_count": null,
   "metadata": {},
   "outputs": [],
   "source": []
  }
 ],
 "metadata": {
  "kernelspec": {
   "display_name": "Python 3",
   "language": "python",
   "name": "python3"
  },
  "language_info": {
   "codemirror_mode": {
    "name": "ipython",
    "version": 3
   },
   "file_extension": ".py",
   "mimetype": "text/x-python",
   "name": "python",
   "nbconvert_exporter": "python",
   "pygments_lexer": "ipython3",
   "version": "3.11.4"
  },
  "orig_nbformat": 4
 },
 "nbformat": 4,
 "nbformat_minor": 2
}
