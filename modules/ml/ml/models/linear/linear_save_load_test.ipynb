{
 "cells": [
  {
   "cell_type": "code",
   "execution_count": 1,
   "outputs": [],
   "source": [
    "import ctypes\n",
    "import numpy as np\n",
    "from lib import *\n",
    "\n",
    "from modules.ml.ml.models.linear.lib import test_linear_model, create_linear_model, train_linear_model, \\\n",
    "    predict_linear_model, save_linear_model"
   ],
   "metadata": {
    "collapsed": false,
    "ExecuteTime": {
     "start_time": "2023-07-13T11:15:18.833160Z",
     "end_time": "2023-07-13T11:15:18.909429Z"
    }
   }
  },
  {
   "cell_type": "markdown",
   "metadata": {},
   "source": [
    "### Linear Simple "
   ]
  },
  {
   "cell_type": "code",
   "execution_count": 2,
   "metadata": {
    "ExecuteTime": {
     "start_time": "2023-07-13T11:15:18.910430Z",
     "end_time": "2023-07-13T11:15:18.913707Z"
    }
   },
   "outputs": [],
   "source": [
    "X = np.array([\n",
    "      [1., 1.],\n",
    "      [2., 3.],\n",
    "      [3., 3.]\n",
    "])\n",
    "Y = np.array([\n",
    "      1.,\n",
    "      0.,\n",
    "      0.\n",
    "])\n",
    "X_size = len(X)\n",
    "all_training_inputs = np.float64(X.flatten())\n",
    "all_training_expected_outputs = np.float64(Y.flatten())\n"
   ]
  },
  {
   "cell_type": "code",
   "execution_count": 3,
   "metadata": {
    "ExecuteTime": {
     "start_time": "2023-07-13T11:15:18.914706Z",
     "end_time": "2023-07-13T11:15:18.924643Z"
    }
   },
   "outputs": [],
   "source": [
    "model_linear = create_linear_model(3)"
   ]
  },
  {
   "cell_type": "code",
   "execution_count": 4,
   "metadata": {
    "ExecuteTime": {
     "start_time": "2023-07-13T11:15:18.925644Z",
     "end_time": "2023-07-13T11:15:19.870667Z"
    }
   },
   "outputs": [],
   "source": [
    "train_linear_model(model_linear, \n",
    "                   all_training_inputs, X_size, 2,\n",
    "                   all_training_expected_outputs, X_size, \n",
    "                   0.1, 50000, True)"
   ]
  },
  {
   "cell_type": "code",
   "execution_count": 5,
   "metadata": {
    "ExecuteTime": {
     "start_time": "2023-07-13T11:15:19.872668Z",
     "end_time": "2023-07-13T11:15:19.876763Z"
    }
   },
   "outputs": [
    {
     "name": "stdout",
     "output_type": "stream",
     "text": [
      "[[1. 1.]\n",
      " [2. 3.]\n",
      " [3. 3.]]\n",
      "100.0\n"
     ]
    }
   ],
   "source": [
    "x_test = test_linear_model(model_linear, \n",
    "                           X, X_size, 2,\n",
    "                           Y, X_size, 0.1, True)\n",
    "print(x_test)"
   ]
  },
  {
   "cell_type": "code",
   "execution_count": 6,
   "metadata": {
    "ExecuteTime": {
     "start_time": "2023-07-13T11:15:19.877766Z",
     "end_time": "2023-07-13T11:15:19.888773Z"
    }
   },
   "outputs": [
    {
     "name": "stdout",
     "output_type": "stream",
     "text": [
      "c_char_p(2247021064080)\n",
      "<class 'ctypes.c_char_p'>\n"
     ]
    }
   ],
   "source": [
    "save_linear_model(model_linear, \"C:\\save_test.csv\")"
   ]
  }
 ],
 "metadata": {
  "kernelspec": {
   "display_name": "Python 3 (ipykernel)",
   "language": "python",
   "name": "python3"
  },
  "language_info": {
   "codemirror_mode": {
    "name": "ipython",
    "version": 3
   },
   "file_extension": ".py",
   "mimetype": "text/x-python",
   "name": "python",
   "nbconvert_exporter": "python",
   "pygments_lexer": "ipython3",
   "version": "3.10.10"
  }
 },
 "nbformat": 4,
 "nbformat_minor": 4
}
