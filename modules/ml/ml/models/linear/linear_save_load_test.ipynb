{
 "cells": [
  {
   "cell_type": "code",
   "execution_count": 2,
   "metadata": {
    "ExecuteTime": {
     "end_time": "2023-07-13T11:15:18.909429Z",
     "start_time": "2023-07-13T11:15:18.833160Z"
    },
    "collapsed": false,
    "jupyter": {
     "outputs_hidden": false
    }
   },
   "outputs": [],
   "source": [
    "import ctypes\n",
    "import numpy as np\n",
    "from lib import *\n",
    "\n",
    "#from modules.ml.ml.models.linear.lib import test_linear_model, create_linear_model, train_linear_model, \\\n",
    "#    predict_linear_model, save_linear_model"
   ]
  },
  {
   "cell_type": "markdown",
   "metadata": {},
   "source": [
    "### Linear Simple "
   ]
  },
  {
   "cell_type": "code",
   "execution_count": 3,
   "metadata": {
    "ExecuteTime": {
     "end_time": "2023-07-13T11:15:18.913707Z",
     "start_time": "2023-07-13T11:15:18.910430Z"
    }
   },
   "outputs": [],
   "source": [
    "X = np.array([\n",
    "      [1., 1.],\n",
    "      [2., 3.],\n",
    "      [3., 3.]\n",
    "])\n",
    "Y = np.array([\n",
    "      1.,\n",
    "      0.,\n",
    "      0.\n",
    "])\n",
    "X_size = len(X)\n",
    "all_training_inputs = np.float64(X.flatten())\n",
    "all_training_expected_outputs = np.float64(Y.flatten())\n"
   ]
  },
  {
   "cell_type": "code",
   "execution_count": 4,
   "metadata": {
    "ExecuteTime": {
     "end_time": "2023-07-13T11:15:18.924643Z",
     "start_time": "2023-07-13T11:15:18.914706Z"
    }
   },
   "outputs": [],
   "source": [
    "model_linear = create_linear_model(3)"
   ]
  },
  {
   "cell_type": "code",
   "execution_count": 5,
   "metadata": {
    "ExecuteTime": {
     "end_time": "2023-07-13T11:15:19.870667Z",
     "start_time": "2023-07-13T11:15:18.925644Z"
    }
   },
   "outputs": [
    {
     "name": "stdout",
     "output_type": "stream",
     "text": [
      "new weight : [13.225134479072874, -0.5029281770392433, -6.567549447710737]\n"
     ]
    }
   ],
   "source": [
    "train_linear_model(model_linear, \n",
    "                   all_training_inputs, X_size, 2,\n",
    "                   all_training_expected_outputs, X_size, \n",
    "                   0.1, 50000, True)"
   ]
  },
  {
   "cell_type": "code",
   "execution_count": 6,
   "metadata": {
    "ExecuteTime": {
     "end_time": "2023-07-13T11:15:19.876763Z",
     "start_time": "2023-07-13T11:15:19.872668Z"
    }
   },
   "outputs": [
    {
     "name": "stdout",
     "output_type": "stream",
     "text": [
      "[[1. 1.]\n",
      " [2. 3.]\n",
      " [3. 3.]]\n",
      "100.0\n",
      "column : 2\n",
      " row : 3\n",
      "[1.0, 1.0, 2.0, 3.0, 3.0, 3.0]\n",
      "[[1.0, 1.0],\n",
      " [2.0, 3.0],\n",
      " [3.0, 3.0]], shape=[3, 2], strides=[2, 1], layout=Cc (0x5), const ndim=2\n",
      "1 - 1 < 0.1 ?\n",
      "0 - 0 < 0.1 ?\n",
      "0 - 0 < 0.1 ?\n"
     ]
    }
   ],
   "source": [
    "x_test = test_linear_model(model_linear, \n",
    "                           X, X_size, 2,\n",
    "                           Y, X_size, 0.1, True)\n",
    "print(x_test)"
   ]
  },
  {
   "cell_type": "code",
   "execution_count": 7,
   "metadata": {
    "ExecuteTime": {
     "end_time": "2023-07-13T11:15:19.888773Z",
     "start_time": "2023-07-13T11:15:19.877766Z"
    }
   },
   "outputs": [
    {
     "name": "stdout",
     "output_type": "stream",
     "text": [
      "c_char_p(139822475691472)\n",
      "<class 'ctypes.c_char_p'>\n",
      "enter save_linear\n",
      "path : C:\\save_test.csv\n"
     ]
    }
   ],
   "source": [
    "save_linear_model(model_linear, \"C:\\save_test.csv\")"
   ]
  },
  {
   "cell_type": "code",
   "execution_count": null,
   "metadata": {},
   "outputs": [],
   "source": []
  }
 ],
 "metadata": {
  "kernelspec": {
   "display_name": "Python 3 (ipykernel)",
   "language": "python",
   "name": "python3"
  },
  "language_info": {
   "codemirror_mode": {
    "name": "ipython",
    "version": 3
   },
   "file_extension": ".py",
   "mimetype": "text/x-python",
   "name": "python",
   "nbconvert_exporter": "python",
   "pygments_lexer": "ipython3",
   "version": "3.9.16"
  }
 },
 "nbformat": 4,
 "nbformat_minor": 4
}
