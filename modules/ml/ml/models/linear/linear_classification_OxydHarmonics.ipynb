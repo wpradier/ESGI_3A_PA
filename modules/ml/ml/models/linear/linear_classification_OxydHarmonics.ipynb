{
 "cells": [
  {
   "cell_type": "code",
   "execution_count": 1,
   "outputs": [],
   "source": [
    "import ctypes\n",
    "import numpy as np\n",
    "import csv\n",
    "from lib import *\n",
    "\n",
    "from modules.ml.ml.models.linear.lib import test_linear_model, create_linear_model, train_linear_model, \\\n",
    "    predict_linear_model"
   ],
   "metadata": {
    "collapsed": false,
    "ExecuteTime": {
     "start_time": "2023-07-05T13:01:37.915700Z",
     "end_time": "2023-07-05T13:01:37.995071Z"
    }
   }
  },
  {
   "cell_type": "markdown",
   "metadata": {},
   "source": [
    "### Electro TRAIN"
   ]
  },
  {
   "cell_type": "code",
   "execution_count": 2,
   "outputs": [
    {
     "name": "stdout",
     "output_type": "stream",
     "text": [
      "[  0.   0.   0. ... 152. 196. 165.]\n",
      "[1. 1. 1. ... 0. 0. 0.]\n",
      "1024\n",
      "2418\n"
     ]
    }
   ],
   "source": [
    "from modules.ml.ml.models.linear.lib import loadDataSet\n",
    "\n",
    "all_training_inputs, all_training_expected_outputs, X_size, X_row_size = loadDataSet('OxydDataset_32_1/electro_train.csv')\n",
    "\n",
    "print(all_training_inputs)\n",
    "print(all_training_expected_outputs)\n",
    "print(X_row_size)\n",
    "print(X_size)\n",
    "\n"
   ],
   "metadata": {
    "collapsed": false,
    "ExecuteTime": {
     "start_time": "2023-07-05T13:01:37.995071Z",
     "end_time": "2023-07-05T13:01:40.341988Z"
    }
   }
  },
  {
   "cell_type": "code",
   "execution_count": 3,
   "metadata": {
    "ExecuteTime": {
     "start_time": "2023-07-05T13:02:07.108931Z",
     "end_time": "2023-07-05T13:02:07.116030Z"
    }
   },
   "outputs": [],
   "source": [
    "model_linear = create_linear_model(X_size)"
   ]
  },
  {
   "cell_type": "code",
   "execution_count": null,
   "metadata": {
    "ExecuteTime": {
     "start_time": "2023-07-05T12:13:53.717770Z",
     "end_time": "2023-07-05T12:13:54.692801Z"
    },
    "pycharm": {
     "is_executing": true
    }
   },
   "outputs": [],
   "source": [
    "train_linear_model(model_linear, \n",
    "                   all_training_inputs, X_size, X_row_size,\n",
    "                   all_training_expected_outputs, X_size, \n",
    "                   0.1, 50000, True)"
   ]
  },
  {
   "cell_type": "code",
   "execution_count": 7,
   "metadata": {
    "ExecuteTime": {
     "start_time": "2023-07-05T12:13:54.693801Z",
     "end_time": "2023-07-05T12:13:54.697440Z"
    }
   },
   "outputs": [
    {
     "name": "stdout",
     "output_type": "stream",
     "text": [
      "[[1. 1.]\n",
      " [2. 3.]\n",
      " [3. 3.]]\n",
      "100.0\n"
     ]
    }
   ],
   "source": [
    "x_test = test_linear_model(model_linear, \n",
    "                           X, X_size, 2,\n",
    "                           Y, X_size, 0.1, True)\n",
    "print(x_test)"
   ]
  },
  {
   "cell_type": "code",
   "execution_count": 7,
   "metadata": {
    "collapsed": false,
    "jupyter": {
     "outputs_hidden": false
    },
    "ExecuteTime": {
     "start_time": "2023-07-05T12:51:01.653353Z",
     "end_time": "2023-07-05T12:51:01.658122Z"
    }
   },
   "outputs": [
    {
     "name": "stdout",
     "output_type": "stream",
     "text": [
      "3\n"
     ]
    }
   ],
   "source": [
    "X = np.array([\n",
    "        [1.0, 8.0],\n",
    "        [4.0, 2.0],\n",
    "        [5.0, 6.0]\n",
    "    ])\n",
    "X_size = len(X)\n",
    "\n",
    "Y = np.array([\n",
    "        [0.0],\n",
    "        [0.0],\n",
    "        [1.0]\n",
    "    ])\n",
    "print(X_size)"
   ]
  },
  {
   "cell_type": "code",
   "execution_count": 9,
   "metadata": {
    "collapsed": false,
    "jupyter": {
     "outputs_hidden": false
    },
    "ExecuteTime": {
     "start_time": "2023-07-05T12:13:54.710586Z",
     "end_time": "2023-07-05T12:13:54.719574Z"
    }
   },
   "outputs": [],
   "source": [
    "all_training_inputs = np.float64(X.flatten())\n",
    "all_training_expected_outputs = np.float64(Y.flatten())\n"
   ]
  },
  {
   "cell_type": "code",
   "execution_count": 10,
   "metadata": {
    "ExecuteTime": {
     "start_time": "2023-07-05T12:13:54.720574Z",
     "end_time": "2023-07-05T12:13:54.803433Z"
    }
   },
   "outputs": [],
   "source": [
    "size_W = 3"
   ]
  },
  {
   "cell_type": "code",
   "execution_count": 11,
   "metadata": {
    "ExecuteTime": {
     "start_time": "2023-07-05T12:13:54.732616Z",
     "end_time": "2023-07-05T12:13:54.809433Z"
    }
   },
   "outputs": [],
   "source": [
    "model_linear = create_linear_model(size_W)"
   ]
  },
  {
   "cell_type": "code",
   "execution_count": 12,
   "metadata": {
    "ExecuteTime": {
     "start_time": "2023-07-05T12:13:54.745929Z",
     "end_time": "2023-07-05T12:13:54.810432Z"
    }
   },
   "outputs": [
    {
     "name": "stdout",
     "output_type": "stream",
     "text": [
      "1783072539888\n"
     ]
    }
   ],
   "source": [
    "print(model_linear)"
   ]
  },
  {
   "cell_type": "code",
   "execution_count": 13,
   "metadata": {
    "ExecuteTime": {
     "start_time": "2023-07-05T12:13:54.790434Z",
     "end_time": "2023-07-05T12:13:55.745372Z"
    }
   },
   "outputs": [],
   "source": [
    "train_linear_model(model_linear, \n",
    "                   all_training_inputs, 3, 2,\n",
    "                   all_training_expected_outputs, 3, \n",
    "                   0.01, 50000, True)"
   ]
  },
  {
   "cell_type": "code",
   "execution_count": 14,
   "metadata": {
    "ExecuteTime": {
     "start_time": "2023-07-05T12:13:55.745372Z",
     "end_time": "2023-07-05T12:13:55.755610Z"
    }
   },
   "outputs": [
    {
     "data": {
      "text/plain": "0.0"
     },
     "execution_count": 14,
     "metadata": {},
     "output_type": "execute_result"
    }
   ],
   "source": [
    "X1_test = np.float64(np.array([1.0, 8.0]))\n",
    "predict_linear_model(model_linear, X1_test, 2, True)"
   ]
  },
  {
   "cell_type": "code",
   "execution_count": 15,
   "metadata": {
    "ExecuteTime": {
     "start_time": "2023-07-05T12:13:55.751702Z",
     "end_time": "2023-07-05T12:13:55.761620Z"
    }
   },
   "outputs": [
    {
     "name": "stdout",
     "output_type": "stream",
     "text": [
      "[[1. 8.]\n",
      " [4. 2.]\n",
      " [5. 6.]]\n",
      "100.0\n"
     ]
    }
   ],
   "source": [
    "\n",
    "x_test = test_linear_model(model_linear,\n",
    "                           X, X_size, 2,\n",
    "                           Y, X_size, 0.1, True)\n",
    "print(x_test)"
   ]
  },
  {
   "cell_type": "markdown",
   "metadata": {},
   "source": [
    "# Linear Multiple"
   ]
  },
  {
   "cell_type": "code",
   "execution_count": 16,
   "metadata": {
    "ExecuteTime": {
     "start_time": "2023-07-05T12:13:55.763621Z",
     "end_time": "2023-07-05T12:13:55.815873Z"
    }
   },
   "outputs": [],
   "source": [
    "X = np.concatenate([np.random.random((50,2)) * 0.9 + np.array([1, 1]), np.random.random((50,2)) * 0.9 + np.array([2, 2])])\n",
    "Y = np.concatenate([np.ones((50, 1)), np.ones((50, 1)) * -1.0])\n",
    "\n",
    "X_size = len(X)\n",
    "\n",
    "all_training_inputs = np.float64(X.flatten())\n",
    "all_training_expected_outputs = np.float64(Y.flatten())\n",
    "\n",
    "#2 col"
   ]
  },
  {
   "cell_type": "code",
   "execution_count": 17,
   "metadata": {
    "ExecuteTime": {
     "start_time": "2023-07-05T12:13:55.773625Z",
     "end_time": "2023-07-05T12:13:55.821665Z"
    }
   },
   "outputs": [],
   "source": [
    "model_linear = create_linear_model(3)"
   ]
  },
  {
   "cell_type": "code",
   "execution_count": 18,
   "metadata": {
    "ExecuteTime": {
     "start_time": "2023-07-05T12:13:55.783700Z",
     "end_time": "2023-07-05T12:13:56.730732Z"
    }
   },
   "outputs": [],
   "source": [
    "train_linear_model(model_linear, \n",
    "                   all_training_inputs, 3, 2,\n",
    "                   all_training_expected_outputs, 3, \n",
    "                   0.01, 50000, True)"
   ]
  },
  {
   "cell_type": "code",
   "execution_count": 19,
   "metadata": {
    "ExecuteTime": {
     "start_time": "2023-07-05T12:13:56.731733Z",
     "end_time": "2023-07-05T12:13:56.736870Z"
    }
   },
   "outputs": [
    {
     "name": "stdout",
     "output_type": "stream",
     "text": [
      "[1.16687447 1.30124503 1.62853978 1.42574446 1.46639552 1.52371252\n",
      " 1.50180369 1.14594863 1.10700476 1.04192417 1.77751328 1.67393403\n",
      " 1.8246611  1.33711513 1.60929283 1.79806257 1.71439229 1.25593479\n",
      " 1.02891904 1.72028532 1.50601741 1.05623131 1.67661477 1.53240353\n",
      " 1.59548925 1.58667257 1.79260962 1.15091997 1.60125236 1.80164493\n",
      " 1.24936812 1.078574   1.76203572 1.16564821 1.20764313 1.19820306\n",
      " 1.39502277 1.73667809 1.13552107 1.72320263 1.24917787 1.59582612\n",
      " 1.39180412 1.11437203 1.52352113 1.03503992 1.87126619 1.8881928\n",
      " 1.15999805 1.49479426 1.14662241 1.70723978 1.31728834 1.29288785\n",
      " 1.83942628 1.34406255 1.83733983 1.31747121 1.46536954 1.80964957\n",
      " 1.1073297  1.07608653 1.38128705 1.51367719 1.7158307  1.69330788\n",
      " 1.45308015 1.84215266 1.86994202 1.06214185 1.21885479 1.75999005\n",
      " 1.80434593 1.30163329 1.67751575 1.82763012 1.41423842 1.76147508\n",
      " 1.86713831 1.27813992 1.25588703 1.21744792 1.41092625 1.68829516\n",
      " 1.6023194  1.193556   1.6128878  1.41647149 1.56113899 1.68878699\n",
      " 1.31910527 1.48057762 1.86545845 1.14262942 1.50197672 1.32617414\n",
      " 1.47572988 1.59080785 1.8252656  1.54188277 2.81349316 2.32472289\n",
      " 2.3645923  2.85784674 2.25887939 2.74190009 2.42056567 2.48736225\n",
      " 2.12796618 2.17211771 2.7410722  2.50328678 2.21100977 2.01989522\n",
      " 2.14450636 2.02721391 2.37546025 2.27916378 2.57108571 2.28289077\n",
      " 2.09290784 2.81467754 2.43336453 2.47953547 2.59734101 2.73544301\n",
      " 2.30732757 2.82514157 2.64758822 2.56090313 2.75946364 2.14354938\n",
      " 2.10411403 2.84127513 2.46101429 2.40708287 2.66986363 2.10111014\n",
      " 2.10797255 2.64888034 2.68486697 2.26356587 2.00409717 2.28438464\n",
      " 2.78029794 2.32054204 2.66089551 2.88597259 2.30113633 2.7214592\n",
      " 2.87787052 2.1967341  2.08914658 2.096455   2.63158278 2.64890017\n",
      " 2.06769252 2.77554959 2.71930607 2.88083628 2.1832232  2.85404264\n",
      " 2.75802275 2.20404314 2.25344376 2.56603558 2.28850563 2.19629098\n",
      " 2.21298989 2.22176463 2.83875718 2.81893666 2.8228487  2.49720349\n",
      " 2.34035505 2.27705228 2.32681621 2.62657214 2.22514187 2.5920227\n",
      " 2.10706226 2.84970107 2.31370934 2.00508789 2.24238016 2.66574976\n",
      " 2.51732707 2.86146264 2.81328507 2.013224   2.07929623 2.68361726\n",
      " 2.42877691 2.4576804  2.44203058 2.69053433 2.83829848 2.55977614\n",
      " 2.7061699  2.52450001]\n",
      "50.0\n"
     ]
    }
   ],
   "source": [
    "x_test = test_linear_model(model_linear, \n",
    "                           all_training_inputs, X_size, 2,\n",
    "                           all_training_expected_outputs, X_size, 0.1, True)\n",
    "print(x_test)"
   ]
  },
  {
   "cell_type": "code",
   "execution_count": 19,
   "metadata": {
    "ExecuteTime": {
     "start_time": "2023-07-05T12:13:56.738110Z",
     "end_time": "2023-07-05T12:13:56.740087Z"
    }
   },
   "outputs": [],
   "source": []
  }
 ],
 "metadata": {
  "kernelspec": {
   "display_name": "Python 3 (ipykernel)",
   "language": "python",
   "name": "python3"
  },
  "language_info": {
   "codemirror_mode": {
    "name": "ipython",
    "version": 3
   },
   "file_extension": ".py",
   "mimetype": "text/x-python",
   "name": "python",
   "nbconvert_exporter": "python",
   "pygments_lexer": "ipython3",
   "version": "3.10.10"
  }
 },
 "nbformat": 4,
 "nbformat_minor": 4
}
