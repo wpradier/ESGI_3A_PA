{
 "cells": [
  {
   "cell_type": "code",
   "execution_count": 1,
   "outputs": [],
   "source": [
    "import ctypes\n",
    "import numpy as np\n",
    "from lib import *\n",
    "\n",
    "from modules.ml.ml.models.linear.lib import test_linear_model, create_linear_model, train_linear_model, \\\n",
    "    predict_linear_model"
   ],
   "metadata": {
    "collapsed": false,
    "ExecuteTime": {
     "start_time": "2023-07-07T09:36:26.811900Z",
     "end_time": "2023-07-07T09:36:26.944661Z"
    }
   }
  },
  {
   "cell_type": "markdown",
   "metadata": {},
   "source": [
    "### Linear Simple "
   ]
  },
  {
   "cell_type": "code",
   "execution_count": 2,
   "metadata": {
    "ExecuteTime": {
     "start_time": "2023-07-07T09:36:26.946968Z",
     "end_time": "2023-07-07T09:36:26.950974Z"
    }
   },
   "outputs": [],
   "source": [
    "X = np.array([\n",
    "      [1., 1.],\n",
    "      [2., 3.],\n",
    "      [3., 3.]\n",
    "])\n",
    "Y = np.array([\n",
    "      1.,\n",
    "      0.,\n",
    "      0.\n",
    "])\n",
    "X_size = len(X)\n",
    "all_training_inputs = np.float64(X.flatten())\n",
    "all_training_expected_outputs = np.float64(Y.flatten())\n"
   ]
  },
  {
   "cell_type": "code",
   "execution_count": 3,
   "metadata": {
    "ExecuteTime": {
     "start_time": "2023-07-07T09:36:26.948974Z",
     "end_time": "2023-07-07T09:36:26.971832Z"
    }
   },
   "outputs": [],
   "source": [
    "model_linear = create_linear_model(3)"
   ]
  },
  {
   "cell_type": "code",
   "execution_count": 4,
   "metadata": {
    "ExecuteTime": {
     "start_time": "2023-07-07T09:36:26.972833Z",
     "end_time": "2023-07-07T09:36:27.890727Z"
    }
   },
   "outputs": [],
   "source": [
    "train_linear_model(model_linear, \n",
    "                   all_training_inputs, X_size, 2,\n",
    "                   all_training_expected_outputs, X_size, \n",
    "                   0.1, 50000, True)"
   ]
  },
  {
   "cell_type": "code",
   "execution_count": 5,
   "metadata": {
    "ExecuteTime": {
     "start_time": "2023-07-07T09:36:27.891728Z",
     "end_time": "2023-07-07T09:36:27.898725Z"
    }
   },
   "outputs": [
    {
     "name": "stdout",
     "output_type": "stream",
     "text": [
      "[[1. 1.]\n",
      " [2. 3.]\n",
      " [3. 3.]]\n",
      "100.0\n"
     ]
    }
   ],
   "source": [
    "x_test = test_linear_model(model_linear, \n",
    "                           X, X_size, 2,\n",
    "                           Y, X_size, 0.1, True)\n",
    "print(x_test)"
   ]
  },
  {
   "cell_type": "code",
   "execution_count": 6,
   "metadata": {
    "collapsed": false,
    "jupyter": {
     "outputs_hidden": false
    },
    "ExecuteTime": {
     "start_time": "2023-07-07T09:36:27.897725Z",
     "end_time": "2023-07-07T09:36:27.906793Z"
    }
   },
   "outputs": [],
   "source": [
    "X = np.array([\n",
    "        [1.0, 8.0],\n",
    "        [4.0, 2.0],\n",
    "        [5.0, 6.0]\n",
    "    ])\n",
    "X_size = len(X)\n",
    "\n",
    "Y = np.array([\n",
    "        [0.0],\n",
    "        [0.0],\n",
    "        [1.0]\n",
    "    ])"
   ]
  },
  {
   "cell_type": "code",
   "execution_count": 7,
   "metadata": {
    "collapsed": false,
    "jupyter": {
     "outputs_hidden": false
    },
    "ExecuteTime": {
     "start_time": "2023-07-07T09:36:27.907766Z",
     "end_time": "2023-07-07T09:36:27.942247Z"
    }
   },
   "outputs": [],
   "source": [
    "all_training_inputs = np.float64(X.flatten())\n",
    "all_training_expected_outputs = np.float64(Y.flatten())\n"
   ]
  },
  {
   "cell_type": "code",
   "execution_count": 8,
   "metadata": {
    "ExecuteTime": {
     "start_time": "2023-07-07T09:36:27.918009Z",
     "end_time": "2023-07-07T09:36:27.952207Z"
    }
   },
   "outputs": [],
   "source": [
    "size_W = 3"
   ]
  },
  {
   "cell_type": "code",
   "execution_count": 9,
   "metadata": {
    "ExecuteTime": {
     "start_time": "2023-07-07T09:36:27.929109Z",
     "end_time": "2023-07-07T09:36:27.952207Z"
    }
   },
   "outputs": [],
   "source": [
    "model_linear = create_linear_model(size_W)"
   ]
  },
  {
   "cell_type": "code",
   "execution_count": 10,
   "metadata": {
    "ExecuteTime": {
     "start_time": "2023-07-07T09:36:27.939243Z",
     "end_time": "2023-07-07T09:36:27.952207Z"
    }
   },
   "outputs": [
    {
     "name": "stdout",
     "output_type": "stream",
     "text": [
      "2464223556880\n"
     ]
    }
   ],
   "source": [
    "print(model_linear)"
   ]
  },
  {
   "cell_type": "code",
   "execution_count": 11,
   "metadata": {
    "ExecuteTime": {
     "start_time": "2023-07-07T09:36:27.953206Z",
     "end_time": "2023-07-07T09:36:28.874993Z"
    }
   },
   "outputs": [],
   "source": [
    "train_linear_model(model_linear, \n",
    "                   all_training_inputs, 3, 2,\n",
    "                   all_training_expected_outputs, 3, \n",
    "                   0.01, 50000, True)"
   ]
  },
  {
   "cell_type": "code",
   "execution_count": 12,
   "metadata": {
    "ExecuteTime": {
     "start_time": "2023-07-07T09:36:28.875995Z",
     "end_time": "2023-07-07T09:36:28.883917Z"
    }
   },
   "outputs": [
    {
     "data": {
      "text/plain": "0.0"
     },
     "execution_count": 12,
     "metadata": {},
     "output_type": "execute_result"
    }
   ],
   "source": [
    "X1_test = np.float64(np.array([1.0, 8.0]))\n",
    "predict_linear_model(model_linear, X1_test, 2, True)"
   ]
  },
  {
   "cell_type": "code",
   "execution_count": 13,
   "metadata": {
    "ExecuteTime": {
     "start_time": "2023-07-07T09:36:28.881915Z",
     "end_time": "2023-07-07T09:36:28.892170Z"
    }
   },
   "outputs": [
    {
     "name": "stdout",
     "output_type": "stream",
     "text": [
      "[[1. 8.]\n",
      " [4. 2.]\n",
      " [5. 6.]]\n",
      "100.0\n"
     ]
    }
   ],
   "source": [
    "\n",
    "x_test = test_linear_model(model_linear,\n",
    "                           X, X_size, 2,\n",
    "                           Y, X_size, 0.1, True)\n",
    "print(x_test)"
   ]
  },
  {
   "cell_type": "markdown",
   "metadata": {},
   "source": [
    "# Linear Multiple"
   ]
  },
  {
   "cell_type": "code",
   "execution_count": 14,
   "metadata": {
    "ExecuteTime": {
     "start_time": "2023-07-07T09:36:28.892170Z",
     "end_time": "2023-07-07T09:36:28.901828Z"
    }
   },
   "outputs": [],
   "source": [
    "X = np.concatenate([np.random.random((50,2)) * 0.9 + np.array([1, 1]), np.random.random((50,2)) * 0.9 + np.array([2, 2])])\n",
    "Y = np.concatenate([np.ones((50, 1)), np.ones((50, 1)) * -1.0])\n",
    "\n",
    "X_size = len(X)\n",
    "\n",
    "all_training_inputs = np.float64(X.flatten())\n",
    "all_training_expected_outputs = np.float64(Y.flatten())\n",
    "\n",
    "#2 col"
   ]
  },
  {
   "cell_type": "code",
   "execution_count": 15,
   "metadata": {
    "ExecuteTime": {
     "start_time": "2023-07-07T09:36:28.902829Z",
     "end_time": "2023-07-07T09:36:28.939037Z"
    }
   },
   "outputs": [],
   "source": [
    "model_linear = create_linear_model(3)"
   ]
  },
  {
   "cell_type": "code",
   "execution_count": 16,
   "metadata": {
    "ExecuteTime": {
     "start_time": "2023-07-07T09:36:28.913038Z",
     "end_time": "2023-07-07T09:36:29.839062Z"
    }
   },
   "outputs": [],
   "source": [
    "train_linear_model(model_linear, \n",
    "                   all_training_inputs, 3, 2,\n",
    "                   all_training_expected_outputs, 3, \n",
    "                   0.01, 50000, True)"
   ]
  },
  {
   "cell_type": "code",
   "execution_count": 17,
   "metadata": {
    "ExecuteTime": {
     "start_time": "2023-07-07T09:36:29.839062Z",
     "end_time": "2023-07-07T09:36:29.846090Z"
    }
   },
   "outputs": [
    {
     "name": "stdout",
     "output_type": "stream",
     "text": [
      "[1.54566251 1.06817897 1.51518216 1.76449825 1.79154574 1.25140366\n",
      " 1.32267989 1.07663415 1.26093723 1.16123106 1.88178149 1.4732358\n",
      " 1.80560524 1.68532005 1.77145776 1.46221741 1.71295756 1.43846889\n",
      " 1.24498586 1.47875582 1.44442159 1.32963569 1.70307627 1.3940754\n",
      " 1.23277857 1.65644094 1.80484936 1.14101809 1.58297782 1.07725268\n",
      " 1.42760109 1.26248241 1.80931736 1.55348536 1.59290158 1.62118273\n",
      " 1.73820091 1.58346787 1.10547793 1.60465747 1.18696536 1.75173159\n",
      " 1.45977298 1.0629211  1.78203662 1.68202066 1.24578161 1.72972246\n",
      " 1.28071576 1.22427032 1.60231282 1.63714804 1.89083006 1.44074978\n",
      " 1.03043989 1.39906123 1.83996268 1.88278392 1.51713096 1.6010171\n",
      " 1.11523677 1.16797419 1.13831023 1.47267278 1.06187009 1.69689649\n",
      " 1.62721875 1.67894997 1.27699848 1.10442346 1.3388711  1.8283781\n",
      " 1.6955712  1.59594616 1.64716327 1.30116904 1.61920925 1.51315504\n",
      " 1.28073337 1.11587499 1.35555586 1.47341059 1.68421626 1.43615703\n",
      " 1.35881188 1.65368539 1.59516637 1.49422325 1.60032148 1.47662432\n",
      " 1.00393359 1.82587144 1.00591841 1.70374106 1.87757888 1.71533208\n",
      " 1.22623762 1.21062683 1.64532319 1.66871807 2.67001286 2.8653795\n",
      " 2.16283107 2.02378719 2.60741286 2.56854333 2.7982567  2.24499109\n",
      " 2.21111935 2.00550587 2.30868231 2.77403343 2.16798715 2.19166561\n",
      " 2.53515105 2.37798886 2.00800263 2.31620152 2.41456437 2.19031461\n",
      " 2.39495709 2.80868493 2.71439281 2.28556531 2.42684886 2.10675846\n",
      " 2.13892924 2.74702786 2.30482454 2.39162035 2.42469996 2.32408814\n",
      " 2.08284528 2.51020631 2.07044825 2.79721962 2.36930659 2.68448466\n",
      " 2.86928381 2.48898745 2.07215926 2.37574932 2.51645436 2.80773331\n",
      " 2.02552002 2.88187192 2.45791465 2.74278597 2.07041905 2.57658541\n",
      " 2.80493608 2.61511223 2.53551584 2.08304525 2.28113322 2.71702827\n",
      " 2.00162379 2.52546323 2.88873561 2.60569384 2.58030599 2.5903192\n",
      " 2.51320551 2.59806732 2.45594138 2.27712917 2.3739093  2.37503937\n",
      " 2.55626258 2.24609605 2.31557268 2.60757447 2.1801002  2.79157222\n",
      " 2.40365422 2.09040222 2.88494581 2.13846998 2.01428563 2.14859302\n",
      " 2.63561259 2.07417183 2.86022571 2.74398855 2.5856875  2.37798457\n",
      " 2.78296311 2.38394092 2.0414815  2.75060822 2.14206546 2.4456466\n",
      " 2.28155784 2.60073184 2.42484841 2.09427315 2.44842051 2.16985202\n",
      " 2.30495241 2.79820538]\n",
      "50.0\n"
     ]
    }
   ],
   "source": [
    "x_test = test_linear_model(model_linear, \n",
    "                           all_training_inputs, X_size, 2,\n",
    "                           all_training_expected_outputs, X_size, 0.1, True)\n",
    "print(x_test)"
   ]
  },
  {
   "cell_type": "code",
   "execution_count": 17,
   "metadata": {
    "ExecuteTime": {
     "start_time": "2023-07-07T09:36:29.845056Z",
     "end_time": "2023-07-07T09:36:29.848082Z"
    }
   },
   "outputs": [],
   "source": []
  }
 ],
 "metadata": {
  "kernelspec": {
   "display_name": "Python 3 (ipykernel)",
   "language": "python",
   "name": "python3"
  },
  "language_info": {
   "codemirror_mode": {
    "name": "ipython",
    "version": 3
   },
   "file_extension": ".py",
   "mimetype": "text/x-python",
   "name": "python",
   "nbconvert_exporter": "python",
   "pygments_lexer": "ipython3",
   "version": "3.10.10"
  }
 },
 "nbformat": 4,
 "nbformat_minor": 4
}
