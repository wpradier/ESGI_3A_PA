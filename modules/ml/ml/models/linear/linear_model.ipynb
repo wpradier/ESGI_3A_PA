{
 "cells": [
  {
   "cell_type": "code",
   "execution_count": 1,
   "metadata": {
    "pycharm": {
     "is_executing": true
    }
   },
   "outputs": [],
   "source": [
    "import ctypes\n",
    "import numpy as np\n",
    "from lib import *"
   ]
  },
  {
   "cell_type": "code",
   "execution_count": 2,
   "metadata": {
    "collapsed": false,
    "jupyter": {
     "outputs_hidden": false
    },
    "pycharm": {
     "is_executing": true
    }
   },
   "outputs": [],
   "source": [
    "X = np.array([\n",
    "        [1.0, 8.0],\n",
    "        [4.0, 2.0],\n",
    "        [5.0, 6.0]\n",
    "    ])\n",
    "X_size = len(X)\n",
    "\n",
    "Y = np.array([\n",
    "        [0.0],\n",
    "        [0.0],\n",
    "        [1.0]\n",
    "    ])"
   ]
  },
  {
   "cell_type": "code",
   "execution_count": 3,
   "metadata": {
    "collapsed": false,
    "jupyter": {
     "outputs_hidden": false
    }
   },
   "outputs": [],
   "source": [
    "all_training_inputs = np.float64(X.flatten())\n",
    "all_training_expected_outputs = np.float64(Y.flatten())\n"
   ]
  },
  {
   "cell_type": "code",
   "execution_count": 4,
   "metadata": {},
   "outputs": [],
   "source": [
    "size_W = 3"
   ]
  },
  {
   "cell_type": "code",
   "execution_count": 5,
   "metadata": {},
   "outputs": [],
   "source": [
    "model_linear = create_linear_model(size_W)"
   ]
  },
  {
   "cell_type": "code",
   "execution_count": 6,
   "metadata": {},
   "outputs": [
    {
     "name": "stdout",
     "output_type": "stream",
     "text": [
      "29287040\n"
     ]
    }
   ],
   "source": [
    "print(model_linear)"
   ]
  },
  {
   "cell_type": "code",
   "execution_count": 7,
   "metadata": {},
   "outputs": [
    {
     "name": "stdout",
     "output_type": "stream",
     "text": [
      "new weight : [-18.387314794158293, 2.9270825256400252, 1.3172550157313834]\n"
     ]
    }
   ],
   "source": [
    "train_linear_model(model_linear, \n",
    "                   all_training_inputs, 3, 2,\n",
    "                   all_training_expected_outputs, 3, \n",
    "                   0.01, 50000, True)"
   ]
  },
  {
   "cell_type": "code",
   "execution_count": 8,
   "metadata": {},
   "outputs": [],
   "source": [
    "X1_test = np.float64(np.array([1.0, 8.0]))\n"
   ]
  },
  {
   "cell_type": "code",
   "execution_count": 9,
   "metadata": {},
   "outputs": [
    {
     "name": "stdout",
     "output_type": "stream",
     "text": [
      " predict : [1.0, 8.0], shape=[2], strides=[1], layout=CFcf (0xf), const ndim=1\n"
     ]
    },
    {
     "data": {
      "text/plain": [
       "-4.9221921426672015"
      ]
     },
     "execution_count": 9,
     "metadata": {},
     "output_type": "execute_result"
    },
    {
     "name": "stdout",
     "output_type": "stream",
     "text": [
      "PREDICT : x : [1.0, 1.0, 8.0], shape=[3], strides=[1], layout=CFcf (0xf), const ndim=1, W : [-18.387314794158293, 2.9270825256400252, 1.3172550157313834], shape=[3], strides=[1], layout=CFcf (0xf), const ndim=1\n"
     ]
    }
   ],
   "source": [
    "predict_linear_model(model_linear, X1_test, 2)"
   ]
  },
  {
   "cell_type": "code",
   "execution_count": 10,
   "metadata": {},
   "outputs": [
    {
     "name": "stdout",
     "output_type": "stream",
     "text": [
      " predict : [5.0, 6.0], shape=[2], strides=[1], layout=CFcf (0xf), const ndim=1\n",
      "PREDICT : x : [1.0, 5.0, 6.0], shape=[3], strides=[1], layout=CFcf (0xf), const ndim=1, W : [-18.387314794158293, 2.9270825256400252, 1.3172550157313834], shape=[3], strides=[1], layout=CFcf (0xf), const ndim=1\n"
     ]
    },
    {
     "data": {
      "text/plain": [
       "4.151627928430132"
      ]
     },
     "execution_count": 10,
     "metadata": {},
     "output_type": "execute_result"
    }
   ],
   "source": [
    "X1_test = np.float64(np.array([5.0, 6.0]))\n",
    "predict_linear_model(model_linear, X1_test, 2)"
   ]
  },
  {
   "cell_type": "code",
   "execution_count": 11,
   "metadata": {},
   "outputs": [
    {
     "name": "stdout",
     "output_type": "stream",
     "text": [
      " predict : [4.0, 2.0], shape=[2], strides=[1], layout=CFcf (0xf), const ndim=1\n",
      "PREDICT : x : [1.0, 4.0, 2.0], shape=[3], strides=[1], layout=CFcf (0xf), const ndim=1, W : [-18.387314794158293, 2.9270825256400252, 1.3172550157313834], shape=[3], strides=[1], layout=CFcf (0xf), const ndim=1\n"
     ]
    },
    {
     "data": {
      "text/plain": [
       "-4.044474660135425"
      ]
     },
     "execution_count": 11,
     "metadata": {},
     "output_type": "execute_result"
    }
   ],
   "source": [
    "X1_test = np.float64(np.array([4.0, 2.0]))\n",
    "predict_linear_model(model_linear, X1_test, 2)"
   ]
  },
  {
   "cell_type": "code",
   "execution_count": null,
   "metadata": {},
   "outputs": [],
   "source": []
  }
 ],
 "metadata": {
  "kernelspec": {
   "display_name": "Python 3 (ipykernel)",
   "language": "python",
   "name": "python3"
  },
  "language_info": {
   "codemirror_mode": {
    "name": "ipython",
    "version": 3
   },
   "file_extension": ".py",
   "mimetype": "text/x-python",
   "name": "python",
   "nbconvert_exporter": "python",
   "pygments_lexer": "ipython3",
   "version": "3.9.16"
  }
 },
 "nbformat": 4,
 "nbformat_minor": 4
}
