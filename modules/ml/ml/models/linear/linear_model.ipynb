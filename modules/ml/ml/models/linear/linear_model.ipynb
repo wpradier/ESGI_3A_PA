{
 "cells": [
  {
   "cell_type": "code",
   "execution_count": 1,
   "metadata": {
    "pycharm": {
     "is_executing": true
    }
   },
   "outputs": [],
   "source": [
    "import ctypes\n",
    "import numpy as np\n",
    "from lib import *"
   ]
  },
  {
   "cell_type": "code",
   "execution_count": 2,
   "metadata": {
    "collapsed": false,
    "jupyter": {
     "outputs_hidden": false
    },
    "pycharm": {
     "is_executing": true
    }
   },
   "outputs": [],
   "source": [
    "X = np.array([\n",
    "        [1.0, 8.0],\n",
    "        [4.0, 2.0],\n",
    "        [5.0, 6.0]\n",
    "    ])\n",
    "X_size = len(X)\n",
    "\n",
    "Y = np.array([\n",
    "        [-1.0],\n",
    "        [-1.0],\n",
    "        [1.0]\n",
    "    ])"
   ]
  },
  {
   "cell_type": "code",
   "execution_count": 3,
   "metadata": {
    "collapsed": false,
    "jupyter": {
     "outputs_hidden": false
    }
   },
   "outputs": [],
   "source": [
    "all_training_inputs = np.float64(X.flatten())\n",
    "all_training_expected_outputs = np.float64(Y.flatten())\n"
   ]
  },
  {
   "cell_type": "code",
   "execution_count": 4,
   "metadata": {},
   "outputs": [],
   "source": [
    "size_W = 3"
   ]
  },
  {
   "cell_type": "code",
   "execution_count": 5,
   "metadata": {},
   "outputs": [],
   "source": [
    "model_linear = create_linear_model(size_W)"
   ]
  },
  {
   "cell_type": "code",
   "execution_count": 6,
   "metadata": {},
   "outputs": [
    {
     "name": "stdout",
     "output_type": "stream",
     "text": [
      "33148624\n"
     ]
    }
   ],
   "source": [
    "print(model_linear)"
   ]
  },
  {
   "cell_type": "code",
   "execution_count": null,
   "metadata": {},
   "outputs": [
    {
     "name": "stdout",
     "output_type": "stream",
     "text": [
      "j : 0,\n",
      "[[1.0, 1.0, 8.0],\n",
      " [1.0, 4.0, 2.0],\n",
      " [1.0, 5.0, 6.0]], shape=[3, 3], strides=[1, 3], layout=Ff (0xa), const ndim=2\n",
      "«loop : 0..3 - -1.4979742622520527\n",
      "xi: [1.0, 1.0, 8.0], shape=[3], strides=[3], layout=Custom (0x0), const ndim=1»\n"
     ]
    },
    {
     "name": "stderr",
     "output_type": "stream",
     "text": [
      "thread '<unnamed>' panicked at 'collapse_axis: Index 1 must be less than axis length 1 for array with shape [1, 3]', /home/arys/.cargo/registry/src/github.com-1ecc6299db9ec823/ndarray-0.15.6/src/dimension/mod.rs:361:5\n",
      "note: run with `RUST_BACKTRACE=1` environment variable to display a backtrace\n",
      "fatal runtime error: failed to initiate panic, error 5\n"
     ]
    }
   ],
   "source": [
    "train_linear_model(model_linear, \n",
    "                   all_training_inputs, 3, 2,\n",
    "                   all_training_expected_outputs, 3, \n",
    "                   0.1, 1000, True)"
   ]
  },
  {
   "cell_type": "code",
   "execution_count": null,
   "metadata": {},
   "outputs": [],
   "source": []
  }
 ],
 "metadata": {
  "kernelspec": {
   "display_name": "Python 3 (ipykernel)",
   "language": "python",
   "name": "python3"
  },
  "language_info": {
   "codemirror_mode": {
    "name": "ipython",
    "version": 3
   },
   "file_extension": ".py",
   "mimetype": "text/x-python",
   "name": "python",
   "nbconvert_exporter": "python",
   "pygments_lexer": "ipython3",
   "version": "3.9.16"
  }
 },
 "nbformat": 4,
 "nbformat_minor": 4
}
